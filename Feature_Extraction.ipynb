{
 "cells": [
  {
   "cell_type": "code",
   "execution_count": 2,
   "metadata": {
    "colab": {
     "base_uri": "https://localhost:8080/",
     "height": 34
    },
    "colab_type": "code",
    "id": "CPQpbHRHfmoz",
    "outputId": "faaa649a-254c-442a-eac9-f97ae375ff8c"
   },
   "outputs": [
    {
     "name": "stderr",
     "output_type": "stream",
     "text": [
      "Using TensorFlow backend.\n"
     ]
    }
   ],
   "source": [
    "import numpy as np\n",
    "import math\n",
    "import os.path\n",
    "import csv\n",
    "import glob\n",
    "import tensorflow as tf\n",
    "import h5py as h5py\n",
    "from keras.preprocessing import image\n",
    "from keras.applications.inception_v3 import InceptionV3, preprocess_input\n",
    "from keras.models import Model, load_model"
   ]
  },
  {
   "cell_type": "code",
   "execution_count": 3,
   "metadata": {
    "colab": {
     "base_uri": "https://localhost:8080/",
     "height": 54
    },
    "colab_type": "code",
    "id": "aewunqD4geuI",
    "outputId": "ece96328-0a36-4a57-aaa2-188aecb62497"
   },
   "outputs": [
    {
     "name": "stdout",
     "output_type": "stream",
     "text": [
      "Downloading http://dlib.net/files/shape_predictor_68_face_landmarks.dat.bz2 to /root/mlxtend_data/shape_predictor_68_face_landmarks.dat.bz2\n"
     ]
    }
   ],
   "source": [
    "import imageio\n",
    "import matplotlib.pyplot as plt\n",
    "from mlxtend.image import extract_face_landmarks"
   ]
  },
  {
   "cell_type": "code",
   "execution_count": 0,
   "metadata": {
    "colab": {},
    "colab_type": "code",
    "id": "n0sIGDJngof2"
   },
   "outputs": [],
   "source": [
    "#\n",
    "def eye_aspect_ratio(eye):\n",
    "\tA = distance.euclidean(eye[1], eye[5])\n",
    "\tB = distance.euclidean(eye[2], eye[4])\n",
    "\tC = distance.euclidean(eye[0], eye[3])\n",
    "\tear = (A + B) / (2.0 * C)\n",
    "\treturn ear\n",
    "def mouth_aspect_ratio(mouth):\n",
    "\tA = distance.euclidean(mouth[14], mouth[18])\n",
    "\tC = distance.euclidean(mouth[12], mouth[16])\n",
    "\tmar = (A ) / (C)\n",
    "\treturn mar"
   ]
  },
  {
   "cell_type": "code",
   "execution_count": 6,
   "metadata": {
    "colab": {
     "base_uri": "https://localhost:8080/",
     "height": 54
    },
    "colab_type": "code",
    "id": "kropQepYChBW",
    "outputId": "dc5493bf-7a39-46b7-ca55-5ebe574c6400"
   },
   "outputs": [
    {
     "name": "stdout",
     "output_type": "stream",
     "text": [
      "Drive already mounted at /content/drive; to attempt to forcibly remount, call drive.mount(\"/content/drive\", force_remount=True).\n"
     ]
    }
   ],
   "source": [
    "from google.colab import drive\n",
    "drive.mount('/content/drive')"
   ]
  },
  {
   "cell_type": "code",
   "execution_count": 0,
   "metadata": {
    "colab": {},
    "colab_type": "code",
    "id": "5wCh_RWwgrV0"
   },
   "outputs": [],
   "source": [
    "def circularity(eye):\n",
    "    A = distance.euclidean(eye[1], eye[4])\n",
    "    radius  = A/2.0\n",
    "    Area = math.pi * (radius ** 2)\n",
    "    p = 0\n",
    "    p += distance.euclidean(eye[0], eye[1])\n",
    "    p += distance.euclidean(eye[1], eye[2])\n",
    "    p += distance.euclidean(eye[2], eye[3])\n",
    "    p += distance.euclidean(eye[3], eye[4])\n",
    "    p += distance.euclidean(eye[4], eye[5])\n",
    "    p += distance.euclidean(eye[5], eye[0])\n",
    "    return 4 * math.pi * Area /(p**2)"
   ]
  },
  {
   "cell_type": "code",
   "execution_count": 0,
   "metadata": {
    "colab": {},
    "colab_type": "code",
    "id": "nTdv0HjEguYM"
   },
   "outputs": [],
   "source": [
    "def mouth_over_eye(eye):\n",
    "    ear = eye_aspect_ratio(eye)\n",
    "    mar = mouth_aspect_ratio(eye)\n",
    "    mouth_eye = mar/ear\n",
    "    return mouth_eye"
   ]
  },
  {
   "cell_type": "code",
   "execution_count": 0,
   "metadata": {
    "colab": {},
    "colab_type": "code",
    "id": "p5yLeH8rg0nY"
   },
   "outputs": [],
   "source": [
    "#Extracting Frames from the videos \n",
    "from scipy.spatial import distance\n",
    "import cv2\n",
    "data = []\n",
    "labels = []\n",
    "for j in [18]:\n",
    "  for i in [10]:\n",
    "    vidcap = cv2.VideoCapture('/content/drive/My Drive/18/10.mov')\n",
    "    sec = 0\n",
    "    frameRate = 1\n",
    "    success, image  = vidcap.read()\n",
    "    # print(success)\n",
    "    count = 0\n",
    "    while success and count < 240: \n",
    "          landmarks = extract_face_landmarks(image)\n",
    "          # print(landmarks)\n",
    "          if sum(sum(landmarks)) != 0:\n",
    "              # print(\"test\")\n",
    "              count += 1\n",
    "              data.append(landmarks)\n",
    "              labels.append([i])\n",
    "              sec = sec + frameRate\n",
    "              sec = round(sec, 2)\n",
    "              success, image = vidcap.read()\n",
    "              print(count)\n",
    "          else:  \n",
    "              sec = sec + frameRate\n",
    "              sec = round(sec, 2)\n",
    "              success, image = vidcap.read()\n",
    "              print(\"not detected\")\n",
    "        "
   ]
  },
  {
   "cell_type": "code",
   "execution_count": 0,
   "metadata": {
    "colab": {},
    "colab_type": "code",
    "id": "5snZEx8SkOe2"
   },
   "outputs": [],
   "source": [
    "import numpy as np\n",
    "data = np.array(data)\n",
    "labels = np.array(labels)"
   ]
  },
  {
   "cell_type": "code",
   "execution_count": 0,
   "metadata": {
    "colab": {},
    "colab_type": "code",
    "id": "JUOaoO9BkRef"
   },
   "outputs": [],
   "source": [
    "features = []\n",
    "label = int(labels[0])\n",
    "for d in data:\n",
    "  eye = d[36:68]\n",
    "  ear = eye_aspect_ratio(eye)\n",
    "  mar = mouth_aspect_ratio(eye)\n",
    "  cir = circularity(eye)\n",
    "  mouth_eye = mouth_over_eye(eye)\n",
    "  features.append([ear, mar, cir, mouth_eye, label])"
   ]
  },
  {
   "cell_type": "code",
   "execution_count": 0,
   "metadata": {
    "colab": {
     "base_uri": "https://localhost:8080/",
     "height": 34
    },
    "colab_type": "code",
    "id": "-nEtsNMRkUeU",
    "outputId": "41818b27-6857-4b4b-9092-549ef6281072"
   },
   "outputs": [
    {
     "data": {
      "text/plain": [
       "(240, 5)"
      ]
     },
     "execution_count": 92,
     "metadata": {
      "tags": []
     },
     "output_type": "execute_result"
    }
   ],
   "source": [
    "features = np.array(features)\n",
    "features.shape"
   ]
  },
  {
   "cell_type": "code",
   "execution_count": 0,
   "metadata": {
    "colab": {
     "base_uri": "https://localhost:8080/",
     "height": 34
    },
    "colab_type": "code",
    "id": "3TzIuDZ8qFNW",
    "outputId": "52bd27d3-746d-4a90-a5e5-2ab16dcab666"
   },
   "outputs": [
    {
     "data": {
      "text/plain": [
       "array([ 0.17231138,  0.98755435,  0.32402916,  5.73121955, 10.        ])"
      ]
     },
     "execution_count": 93,
     "metadata": {
      "tags": []
     },
     "output_type": "execute_result"
    }
   ],
   "source": [
    "#data\n",
    "features[0]"
   ]
  },
  {
   "cell_type": "code",
   "execution_count": 0,
   "metadata": {
    "colab": {
     "base_uri": "https://localhost:8080/",
     "height": 34
    },
    "colab_type": "code",
    "id": "YvMy7j8Ks3EE",
    "outputId": "4ae427d8-7272-4c19-a7cd-834e65f00c6e"
   },
   "outputs": [
    {
     "data": {
      "text/plain": [
       "(240, 68, 2)"
      ]
     },
     "execution_count": 94,
     "metadata": {
      "tags": []
     },
     "output_type": "execute_result"
    }
   ],
   "source": [
    "data.shape"
   ]
  },
  {
   "cell_type": "code",
   "execution_count": 0,
   "metadata": {
    "colab": {
     "base_uri": "https://localhost:8080/",
     "height": 34
    },
    "colab_type": "code",
    "id": "5Tt_jsoLs5gS",
    "outputId": "94532337-bd02-4f6e-cf4b-b7113a83496d"
   },
   "outputs": [
    {
     "data": {
      "text/plain": [
       "(240, 1)"
      ]
     },
     "execution_count": 95,
     "metadata": {
      "tags": []
     },
     "output_type": "execute_result"
    }
   ],
   "source": [
    "labels.shape"
   ]
  },
  {
   "cell_type": "code",
   "execution_count": 0,
   "metadata": {
    "colab": {},
    "colab_type": "code",
    "id": "1-AxX19Es-3Q"
   },
   "outputs": [],
   "source": [
    "# change file name to save \n",
    "\n",
    "np.savetxt(\"Fold2_part1_features_label_18_10.csv\", features, delimiter = \",\")\n"
   ]
  },
  {
   "cell_type": "markdown",
   "metadata": {
    "colab_type": "text",
    "id": "owOs6v4St2RM"
   },
   "source": [
    "Merging the data\n"
   ]
  },
  {
   "cell_type": "code",
   "execution_count": 0,
   "metadata": {
    "colab": {},
    "colab_type": "code",
    "id": "seRDsVERuQsL"
   },
   "outputs": [],
   "source": [
    "import pandas as pd \n",
    "import glob\n",
    "path = r'/content/drive/My Drive/Output' # use your path\n",
    "all_files = glob.glob(path + \"/*.csv\")"
   ]
  },
  {
   "cell_type": "code",
   "execution_count": 10,
   "metadata": {
    "colab": {
     "base_uri": "https://localhost:8080/",
     "height": 289
    },
    "colab_type": "code",
    "id": "PozsFhYb0taZ",
    "outputId": "11b5592e-fb1b-4ea5-dd48-1c305f7e404b"
   },
   "outputs": [
    {
     "data": {
      "text/plain": [
       "['/content/drive/My Drive/Output/Fold5_part2_features_label_60_10.csv',\n",
       " '/content/drive/My Drive/Output/Fold5_part2_features_label_60_0.csv',\n",
       " '/content/drive/My Drive/Output/Fold5_part2_features_label_55_0.csv',\n",
       " '/content/drive/My Drive/Output/Fold5_part2_features_label_55_10.csv',\n",
       " '/content/drive/My Drive/Output/Fold5_part1_features_label_51_0.csv',\n",
       " '/content/drive/My Drive/Output/Fold5_part1_features_label_51_10.csv',\n",
       " '/content/drive/My Drive/Output/Fold5_part1_features_label_54_10.csv',\n",
       " '/content/drive/My Drive/Output/Fold5_part1_features_label_54_0.csv',\n",
       " '/content/drive/My Drive/Output/Fold2_part1_features_label_15_0.csv',\n",
       " '/content/drive/My Drive/Output/Fold2_part1_features_label_15_10.csv',\n",
       " '/content/drive/My Drive/Output/Fold2_part1_features_label_16_0.csv',\n",
       " '/content/drive/My Drive/Output/Fold2_part1_features_label_16_10.csv',\n",
       " '/content/drive/My Drive/Output/Fold2_part1_features_label_17_0.csv',\n",
       " '/content/drive/My Drive/Output/Fold2_part1_features_label_17_10.csv',\n",
       " '/content/drive/My Drive/Output/Fold2_part1_features_label_18_0.csv',\n",
       " '/content/drive/My Drive/Output/Fold2_part1_features_label_18_10.csv']"
      ]
     },
     "execution_count": 10,
     "metadata": {
      "tags": []
     },
     "output_type": "execute_result"
    }
   ],
   "source": [
    "all_files"
   ]
  },
  {
   "cell_type": "code",
   "execution_count": 0,
   "metadata": {
    "colab": {},
    "colab_type": "code",
    "id": "s2Q4lcqP0j4I"
   },
   "outputs": [],
   "source": [
    "df_total = []\n",
    "# i,j = 15,0\n",
    "# df_total = pd.DataFrame()\n",
    "# for i in [15, 16, 17, 18, 51, 54, 55, 60]:\n",
    "#   for j in [0, 10]:\n",
    "#     path = '/Output/Fold2_part1_features_label_'+str(i)+'_'+str(j)+'.csv'\n",
    "#     df = pd.read_csv(path)\n",
    "#     df_total.append(df) \n",
    "\n",
    "for file in all_files:\n",
    "  # print(file)\n",
    "  df = pd.read_csv(file, header= None)\n",
    "  df_total.append(df)\n",
    "df_total = pd.concat(df_total)"
   ]
  },
  {
   "cell_type": "code",
   "execution_count": 0,
   "metadata": {
    "colab": {},
    "colab_type": "code",
    "id": "_8wc8_se1QcI"
   },
   "outputs": [],
   "source": [
    "# Adding Header\n",
    "df_total.columns = [\"EAR\", \"MAR\", \"CIR\", \"Mouth_EYE\", \"label\"]"
   ]
  },
  {
   "cell_type": "code",
   "execution_count": 0,
   "metadata": {
    "colab": {},
    "colab_type": "code",
    "id": "63X7jcaa2f5-"
   },
   "outputs": [],
   "source": [
    "df_total = df_total.reset_index(drop = True)"
   ]
  },
  {
   "cell_type": "code",
   "execution_count": 14,
   "metadata": {
    "colab": {
     "base_uri": "https://localhost:8080/",
     "height": 204
    },
    "colab_type": "code",
    "id": "KchLjVwRzYLb",
    "outputId": "64c6af2d-ab1e-44b4-ff4d-2c280d74f293"
   },
   "outputs": [
    {
     "data": {
      "text/html": [
       "<div>\n",
       "<style scoped>\n",
       "    .dataframe tbody tr th:only-of-type {\n",
       "        vertical-align: middle;\n",
       "    }\n",
       "\n",
       "    .dataframe tbody tr th {\n",
       "        vertical-align: top;\n",
       "    }\n",
       "\n",
       "    .dataframe thead th {\n",
       "        text-align: right;\n",
       "    }\n",
       "</style>\n",
       "<table border=\"1\" class=\"dataframe\">\n",
       "  <thead>\n",
       "    <tr style=\"text-align: right;\">\n",
       "      <th></th>\n",
       "      <th>EAR</th>\n",
       "      <th>MAR</th>\n",
       "      <th>CIR</th>\n",
       "      <th>Mouth_EYE</th>\n",
       "      <th>label</th>\n",
       "    </tr>\n",
       "  </thead>\n",
       "  <tbody>\n",
       "    <tr>\n",
       "      <th>3835</th>\n",
       "      <td>0.155557</td>\n",
       "      <td>1.010112</td>\n",
       "      <td>0.313427</td>\n",
       "      <td>6.493502</td>\n",
       "      <td>10.0</td>\n",
       "    </tr>\n",
       "    <tr>\n",
       "      <th>3836</th>\n",
       "      <td>0.152062</td>\n",
       "      <td>1.018089</td>\n",
       "      <td>0.297301</td>\n",
       "      <td>6.695213</td>\n",
       "      <td>10.0</td>\n",
       "    </tr>\n",
       "    <tr>\n",
       "      <th>3837</th>\n",
       "      <td>0.158283</td>\n",
       "      <td>1.010600</td>\n",
       "      <td>0.323855</td>\n",
       "      <td>6.384763</td>\n",
       "      <td>10.0</td>\n",
       "    </tr>\n",
       "    <tr>\n",
       "      <th>3838</th>\n",
       "      <td>0.152245</td>\n",
       "      <td>1.045366</td>\n",
       "      <td>0.307941</td>\n",
       "      <td>6.866363</td>\n",
       "      <td>10.0</td>\n",
       "    </tr>\n",
       "    <tr>\n",
       "      <th>3839</th>\n",
       "      <td>0.142766</td>\n",
       "      <td>0.978632</td>\n",
       "      <td>0.299788</td>\n",
       "      <td>6.854790</td>\n",
       "      <td>10.0</td>\n",
       "    </tr>\n",
       "  </tbody>\n",
       "</table>\n",
       "</div>"
      ],
      "text/plain": [
       "           EAR       MAR       CIR  Mouth_EYE  label\n",
       "3835  0.155557  1.010112  0.313427   6.493502   10.0\n",
       "3836  0.152062  1.018089  0.297301   6.695213   10.0\n",
       "3837  0.158283  1.010600  0.323855   6.384763   10.0\n",
       "3838  0.152245  1.045366  0.307941   6.866363   10.0\n",
       "3839  0.142766  0.978632  0.299788   6.854790   10.0"
      ]
     },
     "execution_count": 14,
     "metadata": {
      "tags": []
     },
     "output_type": "execute_result"
    }
   ],
   "source": [
    "df_total.tail()"
   ]
  },
  {
   "cell_type": "code",
   "execution_count": 0,
   "metadata": {
    "colab": {},
    "colab_type": "code",
    "id": "yLYnmdJT7lOy"
   },
   "outputs": [],
   "source": [
    "#Saving final dataframe\n",
    "df_total.to_csv('total_frames.csv', index = False)"
   ]
  }
 ],
 "metadata": {
  "colab": {
   "collapsed_sections": [],
   "name": "Feature Extraction.ipynb",
   "provenance": []
  },
  "kernelspec": {
   "display_name": "Python 3",
   "language": "python",
   "name": "python3"
  },
  "language_info": {
   "codemirror_mode": {
    "name": "ipython",
    "version": 3
   },
   "file_extension": ".py",
   "mimetype": "text/x-python",
   "name": "python",
   "nbconvert_exporter": "python",
   "pygments_lexer": "ipython3",
   "version": "3.7.4"
  }
 },
 "nbformat": 4,
 "nbformat_minor": 1
}
